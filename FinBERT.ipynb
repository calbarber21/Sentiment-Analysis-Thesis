{
  "nbformat": 4,
  "nbformat_minor": 0,
  "metadata": {
    "colab": {
      "name": "FinBERT",
      "provenance": [],
      "machine_shape": "hm",
      "authorship_tag": "ABX9TyNvw29DTc7AgQwvVqnz4i/f",
      "include_colab_link": true
    },
    "kernelspec": {
      "name": "python3",
      "display_name": "Python 3"
    },
    "language_info": {
      "name": "python"
    },
    "accelerator": "GPU"
  },
  "cells": [
    {
      "cell_type": "markdown",
      "metadata": {
        "id": "view-in-github",
        "colab_type": "text"
      },
      "source": [
        "<a href=\"https://colab.research.google.com/github/calbarber21/Sentiment-Analysis-Thesis/blob/master/FinBERT.ipynb\" target=\"_parent\"><img src=\"https://colab.research.google.com/assets/colab-badge.svg\" alt=\"Open In Colab\"/></a>"
      ]
    },
    {
      "cell_type": "code",
      "metadata": {
        "colab": {
          "base_uri": "https://localhost:8080/"
        },
        "id": "PFvRjI5ZnRvo",
        "outputId": "8b5ca5f8-3be2-4b92-c177-794d34e77ce4"
      },
      "source": [
        "from google.colab import drive \n",
        "drive.mount('/content/gdrive')\n",
        "#change directoy to .txt files directory\n",
        "%cd /content/gdrive/My\\ Drive/ThesisData/AllData\n",
        "import pandas as pd\n",
        "import glob"
      ],
      "execution_count": null,
      "outputs": [
        {
          "output_type": "stream",
          "text": [
            "Mounted at /content/gdrive\n",
            "/content/gdrive/My Drive/ThesisData/AllData\n"
          ],
          "name": "stdout"
        }
      ]
    },
    {
      "cell_type": "markdown",
      "metadata": {
        "id": "_r9_6OXx82EL"
      },
      "source": [
        "Setting Up the Model"
      ]
    },
    {
      "cell_type": "code",
      "metadata": {
        "id": "d7VU5NeMoloi"
      },
      "source": [
        "!pip install transformers"
      ],
      "execution_count": null,
      "outputs": []
    },
    {
      "cell_type": "code",
      "metadata": {
        "colab": {
          "base_uri": "https://localhost:8080/"
        },
        "id": "NjcJl70hqGR_",
        "outputId": "dfdd80e6-6c90-492f-f9c6-2ccc0d2ca34a"
      },
      "source": [
        "from transformers import BertTokenizer, BertForSequenceClassification\n",
        "import torch\n",
        "!pip install cuda\n",
        "from numba import cuda"
      ],
      "execution_count": null,
      "outputs": [
        {
          "output_type": "stream",
          "text": [
            "Requirement already satisfied: cuda in /usr/local/lib/python3.7/dist-packages (0.0.1)\n"
          ],
          "name": "stdout"
        }
      ]
    },
    {
      "cell_type": "code",
      "metadata": {
        "id": "RfgzdAoAqIu8"
      },
      "source": [
        "tokenizer = BertTokenizer.from_pretrained('bert-base-uncased')"
      ],
      "execution_count": null,
      "outputs": []
    },
    {
      "cell_type": "code",
      "metadata": {
        "id": "jmrHwwGfqMjZ"
      },
      "source": [
        "model = BertForSequenceClassification.from_pretrained('finBERT/pytorch_model(1).bin', config = 'finBERT/config.json', num_labels = 3).to('cuda')"
      ],
      "execution_count": null,
      "outputs": []
    },
    {
      "cell_type": "markdown",
      "metadata": {
        "id": "63FYS6t888e9"
      },
      "source": [
        "Calssfiy Sentiment From Business Insider Dataset"
      ]
    },
    {
      "cell_type": "code",
      "metadata": {
        "id": "gUZNRHqr8_Mh"
      },
      "source": [
        "data = pd.read_csv('AllData_PreWeighted.csv')"
      ],
      "execution_count": null,
      "outputs": []
    },
    {
      "cell_type": "code",
      "metadata": {
        "colab": {
          "base_uri": "https://localhost:8080/",
          "height": 249
        },
        "id": "gtYmb2Q4-1ky",
        "outputId": "c0b17449-468c-41f2-d89d-64a2b67e1952"
      },
      "source": [
        "### Truncates the first 512 tokens from each article \n",
        "import nltk\n",
        "import numpy as np\n",
        "import timeit\n",
        "import pandas\n",
        "import IPython\n",
        "from IPython.display import clear_output\n",
        "sentLs=[]\n",
        "start = timeit.default_timer()\n",
        "for z in range(0,len(data)):\n",
        "  clear_output(wait=True)\n",
        "  sentSum = 0\n",
        "  outputs = model(**tokenizer(data['article'][z], return_tensors=\"pt\",truncation= True,max_length=512).to('cuda'))\n",
        "  sent = torch.argmax(outputs[0]).cuda()\n",
        "  if sent == 0: sentSum += 1\n",
        "  elif sent == 1: sentSum -= 1\n",
        "  sentLs.append(sentSum)\n",
        "  stop = timeit.default_timer()\n",
        "  if (z/70000 * 100) < 0.1 : \n",
        "    expectedTime = 'Calculating ... '\n",
        "  else :\n",
        "    time_perc = timeit.default_timer()\n",
        "    expectedTime = np.round(((time_perc - start)/(z/70000))/60,2)\n",
        "  print('Current Progress: ',np.round(z/70000 * 100,2), \"%\")\n",
        "  print('Expected Run Time:',expectedTime,'minutes')\n",
        "len(sentLs)\n",
        "sentLs\n",
        "df = pandas.DataFrame(sentLs,columns=['FinBERT Score'])\n",
        "df.to_csv('FinBERT_All.csv')"
      ],
      "execution_count": null,
      "outputs": [
        {
          "output_type": "stream",
          "text": [
            "Current Progress:  320.34 %\n",
            "Expected Run Time: 56.67 minutes\n"
          ],
          "name": "stdout"
        },
        {
          "output_type": "error",
          "ename": "NameError",
          "evalue": "ignored",
          "traceback": [
            "\u001b[0;31m---------------------------------------------------------------------------\u001b[0m",
            "\u001b[0;31mNameError\u001b[0m                                 Traceback (most recent call last)",
            "\u001b[0;32m<ipython-input-30-5cc65e7a5fba>\u001b[0m in \u001b[0;36m<module>\u001b[0;34m()\u001b[0m\n\u001b[1;32m     26\u001b[0m \u001b[0mlen\u001b[0m\u001b[0;34m(\u001b[0m\u001b[0msentLs\u001b[0m\u001b[0;34m)\u001b[0m\u001b[0;34m\u001b[0m\u001b[0;34m\u001b[0m\u001b[0m\n\u001b[1;32m     27\u001b[0m \u001b[0msentLs\u001b[0m\u001b[0;34m\u001b[0m\u001b[0;34m\u001b[0m\u001b[0m\n\u001b[0;32m---> 28\u001b[0;31m \u001b[0mdf\u001b[0m \u001b[0;34m=\u001b[0m \u001b[0mDataFrame\u001b[0m\u001b[0;34m(\u001b[0m\u001b[0msentLs\u001b[0m\u001b[0;34m,\u001b[0m\u001b[0mcolumns\u001b[0m\u001b[0;34m=\u001b[0m\u001b[0;34m[\u001b[0m\u001b[0;34m'FinBERT Score'\u001b[0m\u001b[0;34m]\u001b[0m\u001b[0;34m)\u001b[0m\u001b[0;34m\u001b[0m\u001b[0;34m\u001b[0m\u001b[0m\n\u001b[0m\u001b[1;32m     29\u001b[0m \u001b[0mdf\u001b[0m\u001b[0;34m.\u001b[0m\u001b[0mto_csv\u001b[0m\u001b[0;34m(\u001b[0m\u001b[0;34m'FinBERT_All.csv'\u001b[0m\u001b[0;34m)\u001b[0m\u001b[0;34m\u001b[0m\u001b[0;34m\u001b[0m\u001b[0m\n",
            "\u001b[0;31mNameError\u001b[0m: name 'DataFrame' is not defined"
          ]
        }
      ]
    },
    {
      "cell_type": "code",
      "metadata": {
        "id": "tF2rMqUcbsDC"
      },
      "source": [
        "df = pandas.DataFrame(sentLs,columns=['FinBERT Score'])"
      ],
      "execution_count": null,
      "outputs": []
    },
    {
      "cell_type": "code",
      "metadata": {
        "id": "k1-H8yGXxodV"
      },
      "source": [
        "df.to_csv('FinBERT_All.csv')"
      ],
      "execution_count": null,
      "outputs": []
    }
  ]
}